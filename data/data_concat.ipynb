{
 "cells": [
  {
   "cell_type": "markdown",
   "metadata": {},
   "source": [
    "# 添加time时间戳，要用精确时间表示"
   ]
  },
  {
   "cell_type": "markdown",
   "metadata": {},
   "source": [
    "## 要有一个空的多数据源位置预测_all.csv，这个csv要有第一行属性"
   ]
  },
  {
   "cell_type": "code",
   "execution_count": 9,
   "metadata": {},
   "outputs": [],
   "source": [
    "import pandas as pd\n",
    "from decimal import Decimal, getcontext\n",
    "\n",
    "# 设置Decimal的精度\n",
    "getcontext().prec = 17\n",
    "\n",
    "# 读取CSV文件\n",
    "df = pd.read_csv('多数据源位置预测_all.csv')\n",
    "\n",
    "# 检查\"time\"列是否存在\n",
    "if 'time' in df.columns:\n",
    "    # 生成0到1秒之间的时间序列，间隔为0.0000001秒，使用Decimal来保持精度\n",
    "    time_series = [Decimal(i) * Decimal('0.0000001') for i in range(10000000)]\n",
    "\n",
    "    # 将生成的时间序列赋值给\"time\"列\n",
    "    df['time'] = time_series\n",
    "\n",
    "    # 将修改后的数据写回CSV文件\n",
    "    df.to_csv('多数据源位置预测_all.csv', index=False)\n",
    "else:\n",
    "    print(\"'time'列不存在于CSV文件中\")\n"
   ]
  },
  {
   "cell_type": "markdown",
   "metadata": {},
   "source": [
    "## 打开数据集，手动添加最后一行\n",
    "## 1,,,,,,,,"
   ]
  },
  {
   "cell_type": "markdown",
   "metadata": {},
   "source": [
    "## 接下来，添加其他列"
   ]
  },
  {
   "cell_type": "code",
   "execution_count": 10,
   "metadata": {},
   "outputs": [],
   "source": [
    "import pandas as pd\n",
    "\n",
    "# Load the data from Id_out.csv, assuming there is only one column and no header\n",
    "id_out_df = pd.read_csv('Id_out.csv', header=None)\n",
    "\n",
    "# Load the data from 多数据源位置预测_all.csv\n",
    "all_data_df = pd.read_csv('多数据源位置预测_all.csv')\n",
    "\n",
    "# Ensure the 'id_feedback' column exists in the all_data_df DataFrame\n",
    "if 'id_feedback' in all_data_df.columns:\n",
    "    # Assign the column from Id_out.csv to the 'id_feedback' column in all_data_df\n",
    "    all_data_df['id_feedback'] = id_out_df.iloc[:, 0]\n",
    "\n",
    "    # Save the updated DataFrame back to 多数据源位置预测_all.csv\n",
    "    all_data_df.to_csv('多数据源位置预测_all.csv', index=False)\n",
    "else:\n",
    "    print(\"The 'id_feedback' column does not exist in the 多数据源位置预测_all.csv file.\")\n"
   ]
  },
  {
   "cell_type": "code",
   "execution_count": 11,
   "metadata": {},
   "outputs": [],
   "source": [
    "import pandas as pd\n",
    "\n",
    "# Load the data from Iq_out.csv, assuming there is only one column and no header\n",
    "iq_out_df = pd.read_csv('Iq_out.csv', header=None)\n",
    "\n",
    "# Load the data from 多数据源位置预测_all.csv\n",
    "all_data_df = pd.read_csv('多数据源位置预测_all.csv')\n",
    "\n",
    "# Ensure the 'iq_feedback' column exists in the all_data_df DataFrame\n",
    "if 'id_feedback' in all_data_df.columns:\n",
    "    # Assign the column from Iq_out.csv to the 'iq_feedback' column in all_data_df\n",
    "    all_data_df['iq_feedback'] = iq_out_df.iloc[:, 0]\n",
    "\n",
    "    # Save the updated DataFrame back to 多数据源位置预测_all.csv\n",
    "    all_data_df.to_csv('多数据源位置预测_all.csv', index=False)\n",
    "else:\n",
    "    print(\"The 'iq_feedback' column does not exist in the 多数据源位置预测_all.csv file.\")\n"
   ]
  },
  {
   "cell_type": "code",
   "execution_count": 12,
   "metadata": {},
   "outputs": [],
   "source": [
    "import pandas as pd\n",
    "\n",
    "# Load the data from speed_out.csv, assuming there is only one column and no header\n",
    "speed_out_df = pd.read_csv('speed_out.csv', header=None)\n",
    "\n",
    "# Load the data from 多数据源位置预测_all.csv\n",
    "all_data_df = pd.read_csv('多数据源位置预测_all.csv')\n",
    "\n",
    "# Ensure the 'motor_speed_feedback' column exists in the all_data_df DataFrame\n",
    "if 'motor_speed_feedback' in all_data_df.columns:\n",
    "    # Assign the column from speed_out.csv to the 'motor_speed_feedback' column in all_data_df\n",
    "    all_data_df['motor_speed_feedback'] = speed_out_df.iloc[:, 0]\n",
    "\n",
    "    # Save the updated DataFrame back to 多数据源位置预测_all.csv\n",
    "    all_data_df.to_csv('多数据源位置预测_all.csv', index=False)\n",
    "else:\n",
    "    print(\"The 'motor_speed_feedback' column does not exist in the 多数据源位置预测_all.csv file.\")\n"
   ]
  },
  {
   "cell_type": "code",
   "execution_count": 13,
   "metadata": {},
   "outputs": [],
   "source": [
    "import pandas as pd\n",
    "\n",
    "# Load the data from 多数据源位置预测_all.csv\n",
    "all_data_df = pd.read_csv('多数据源位置预测_all.csv')\n",
    "\n",
    "# A helper function to read a CSV and assign its column to a column in all_data_df\n",
    "def update_column_from_csv(csv_filename, column_name):\n",
    "    try:\n",
    "        # Assuming there is only one column and no header\n",
    "        temp_df = pd.read_csv(csv_filename, header=None)\n",
    "        # Check if the target column exists in the main DataFrame\n",
    "        if column_name in all_data_df.columns:\n",
    "            # Assign the column from the read CSV to the specified column in all_data_df\n",
    "            all_data_df[column_name] = temp_df.iloc[:, 0]\n",
    "        else:\n",
    "            print(f\"The '{column_name}' column does not exist in the 多数据源位置预测_all.csv file.\")\n",
    "    except FileNotFoundError as e:\n",
    "        print(f\"File not found: {csv_filename}\")\n",
    "\n",
    "# Update the columns with data from the respective CSV files\n",
    "update_column_from_csv('angle_out.csv', 'rotation_angle_feedback')\n",
    "update_column_from_csv('Id_in.csv', 'id_command')\n",
    "update_column_from_csv('iq_in.csv', 'iq_command')\n",
    "update_column_from_csv('speed_in.csv', 'motor_speed_command')\n",
    "update_column_from_csv('angle_in.csv', 'rotation_angle_command')\n",
    "\n",
    "# Save the updated DataFrame back to 多数据源位置预测_all.csv\n",
    "all_data_df.to_csv('多数据源位置预测_all.csv', index=False)\n"
   ]
  },
  {
   "cell_type": "markdown",
   "metadata": {},
   "source": [
    "## 切割子集"
   ]
  },
  {
   "cell_type": "code",
   "execution_count": 1,
   "metadata": {},
   "outputs": [],
   "source": [
    "import pandas as pd\n",
    "\n",
    "# Path to the CSV file\n",
    "csv_file_path = '多数据源位置预测_all.csv'\n",
    "\n",
    "# Load the data from 多数据源位置预测_all.csv\n",
    "all_data_df = pd.read_csv(csv_file_path)\n",
    "\n",
    "# Take the first 10000 rows for the subset\n",
    "subset_df = all_data_df.head(10000)\n",
    "\n",
    "# Path to the new subset CSV file\n",
    "subset_csv_file_path = '多数据源位置预测_all_subset.csv'\n",
    "\n",
    "# Save the subset to a new CSV file\n",
    "subset_df.to_csv(subset_csv_file_path, index=False)"
   ]
  },
  {
   "cell_type": "code",
   "execution_count": null,
   "metadata": {},
   "outputs": [],
   "source": []
  }
 ],
 "metadata": {
  "kernelspec": {
   "display_name": "PMSM",
   "language": "python",
   "name": "python3"
  },
  "language_info": {
   "codemirror_mode": {
    "name": "ipython",
    "version": 3
   },
   "file_extension": ".py",
   "mimetype": "text/x-python",
   "name": "python",
   "nbconvert_exporter": "python",
   "pygments_lexer": "ipython3",
   "version": "3.9.18"
  }
 },
 "nbformat": 4,
 "nbformat_minor": 2
}
